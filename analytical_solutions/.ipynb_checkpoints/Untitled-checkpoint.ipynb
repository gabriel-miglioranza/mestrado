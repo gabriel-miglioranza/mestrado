{
 "cells": [
  {
   "cell_type": "code",
   "execution_count": 1,
   "metadata": {},
   "outputs": [],
   "source": [
    "from batchpy import batch as bh\n",
    "import numpy as np\n",
    "from matplotlib import pyplot as plt\n"
   ]
  },
  {
   "cell_type": "code",
   "execution_count": 2,
   "metadata": {},
   "outputs": [
    {
     "name": "stdout",
     "output_type": "stream",
     "text": [
      "u = finite_batch_particle(x,t,bi,a,s,eps)\n",
      "\n",
      "Wrapper for ``finite_batch_particle``.\n",
      "\n",
      "Parameters\n",
      "----------\n",
      "x : input float\n",
      "t : input float\n",
      "bi : input float\n",
      "a : input float\n",
      "s : input int\n",
      "eps : input float\n",
      "\n",
      "Returns\n",
      "-------\n",
      "u : float\n",
      "v = finite_batch_bulk(t,bi,a,s,eps)\n",
      "\n",
      "Wrapper for ``finite_batch_bulk``.\n",
      "\n",
      "Parameters\n",
      "----------\n",
      "t : input float\n",
      "bi : input float\n",
      "a : input float\n",
      "s : input int\n",
      "eps : input float\n",
      "\n",
      "Returns\n",
      "-------\n",
      "v : float\n",
      "g = root_calc(g_old,bi,a,s,eps)\n",
      "\n",
      "Wrapper for ``root_calc``.\n",
      "\n",
      "Parameters\n",
      "----------\n",
      "g_old : input float\n",
      "bi : input float\n",
      "a : input float\n",
      "s : input int\n",
      "eps : input float\n",
      "\n",
      "Returns\n",
      "-------\n",
      "g : float\n",
      "f = f(g,bi,a,s)\n",
      "\n",
      "Wrapper for ``f``.\n",
      "\n",
      "Parameters\n",
      "----------\n",
      "g : input float\n",
      "bi : input float\n",
      "a : input float\n",
      "s : input int\n",
      "\n",
      "Returns\n",
      "-------\n",
      "f : float\n",
      "df = df(g,bi,a,s)\n",
      "\n",
      "Wrapper for ``df``.\n",
      "\n",
      "Parameters\n",
      "----------\n",
      "g : input float\n",
      "bi : input float\n",
      "a : input float\n",
      "s : input int\n",
      "\n",
      "Returns\n",
      "-------\n",
      "df : float\n",
      "\n"
     ]
    }
   ],
   "source": [
    "print(bh.__doc__)"
   ]
  },
  {
   "cell_type": "code",
   "execution_count": 8,
   "metadata": {},
   "outputs": [],
   "source": [
    "t = np.linspace(0.0,1,100)\n",
    "t = t**2\n",
    "eps=1e-7\n",
    "v=np.zeros(t.shape)\n"
   ]
  },
  {
   "cell_type": "code",
   "execution_count": 5,
   "metadata": {},
   "outputs": [
    {
     "ename": "TypeError",
     "evalue": "'float' object does not support item assignment",
     "output_type": "error",
     "traceback": [
      "\u001b[0;31m---------------------------------------------------------------------------\u001b[0m",
      "\u001b[0;31mTypeError\u001b[0m                                 Traceback (most recent call last)",
      "\u001b[0;32m<ipython-input-5-151ec4405133>\u001b[0m in \u001b[0;36m<module>\u001b[0;34m\u001b[0m\n\u001b[1;32m      5\u001b[0m \u001b[0meps\u001b[0m \u001b[0;34m=\u001b[0m \u001b[0;36m1e-6\u001b[0m\u001b[0;34m\u001b[0m\u001b[0;34m\u001b[0m\u001b[0m\n\u001b[1;32m      6\u001b[0m \u001b[0;32mfor\u001b[0m \u001b[0mi\u001b[0m \u001b[0;32min\u001b[0m \u001b[0mrange\u001b[0m\u001b[0;34m(\u001b[0m\u001b[0mlen\u001b[0m\u001b[0;34m(\u001b[0m\u001b[0mg_old\u001b[0m\u001b[0;34m)\u001b[0m\u001b[0;34m)\u001b[0m\u001b[0;34m:\u001b[0m\u001b[0;34m\u001b[0m\u001b[0;34m\u001b[0m\u001b[0m\n\u001b[0;32m----> 7\u001b[0;31m     \u001b[0mg\u001b[0m\u001b[0;34m[\u001b[0m\u001b[0mi\u001b[0m\u001b[0;34m]\u001b[0m \u001b[0;34m=\u001b[0m \u001b[0mbh\u001b[0m\u001b[0;34m.\u001b[0m\u001b[0mroot_calc\u001b[0m\u001b[0;34m(\u001b[0m\u001b[0mg_old\u001b[0m\u001b[0;34m[\u001b[0m\u001b[0mi\u001b[0m\u001b[0;34m]\u001b[0m\u001b[0;34m,\u001b[0m\u001b[0mbi\u001b[0m\u001b[0;34m,\u001b[0m\u001b[0ma\u001b[0m\u001b[0;34m,\u001b[0m\u001b[0ms\u001b[0m\u001b[0;34m,\u001b[0m\u001b[0meps\u001b[0m\u001b[0;34m)\u001b[0m\u001b[0;34m\u001b[0m\u001b[0;34m\u001b[0m\u001b[0m\n\u001b[0m\u001b[1;32m      8\u001b[0m \u001b[0mprint\u001b[0m\u001b[0;34m(\u001b[0m\u001b[0mg\u001b[0m\u001b[0;34m)\u001b[0m\u001b[0;34m\u001b[0m\u001b[0;34m\u001b[0m\u001b[0m\n",
      "\u001b[0;31mTypeError\u001b[0m: 'float' object does not support item assignment"
     ]
    }
   ],
   "source": [
    "\n",
    "g_old = np.linspace(0,30,50)\n",
    "bi = 1.0\n",
    "a = 1.0\n",
    "s = 2\n",
    "eps = 1e-6\n",
    "g=np.zeros(g_old.shape)\n",
    "for i in range(len(g_old)):\n",
    "    g[i] = bh.root_calc(g_old[i],bi,a,s,eps)\n",
    "print(g)"
   ]
  },
  {
   "cell_type": "code",
   "execution_count": 9,
   "metadata": {},
   "outputs": [
    {
     "data": {
      "image/png": "[encoded data removed]",
      "text/plain": [
       "<Figure size 432x288 with 1 Axes>"
      ]
     },
     "metadata": {
      "needs_background": "light"
     },
     "output_type": "display_data"
    }
   ],
   "source": [
    "for i in range(len(t)):\n",
    "    v[i] = bh.finite_batch_bulk(t[i],1000,1,2,eps)\n",
    "plt.plot(np.sqrt(t),(1.0-v)/1)\n",
    "\n",
    "for i in range(len(t)):\n",
    "    v[i] = bh.finite_batch_bulk(t[i],100,1,2,eps)\n",
    "plt.plot(np.sqrt(t),(1.0-v)/1)\n",
    "\n",
    "for i in range(len(t)):\n",
    "    v[i] = bh.finite_batch_bulk(t[i],10,1,2,eps)\n",
    "plt.plot(np.sqrt(t),(1.0-v)/1)\n",
    "\n",
    "for i in range(len(t)):\n",
    "    v[i] = bh.finite_batch_bulk(t[i],1,1,2,eps)\n",
    "plt.plot(np.sqrt(t),(1.0-v)/1)\n",
    "\n",
    "plt.show()"
   ]
  },
  {
   "cell_type": "code",
   "execution_count": 5,
   "metadata": {
    "scrolled": true
   },
   "outputs": [
    {
     "data": {
      "image/png": "[encoded data removed]",
      "text/plain": [
       "<Figure size 432x288 with 1 Axes>"
      ]
     },
     "metadata": {
      "needs_background": "light"
     },
     "output_type": "display_data"
    }
   ],
   "source": [
    "for i in range(len(t)):\n",
    "    v[i] = bh.finite_batch_bulk(t[i],10,100,2,eps)\n",
    "plt.plot(np.sqrt(t),(1.0-v)/100)\n",
    "\n",
    "for i in range(len(t)):\n",
    "    v[i] = bh.finite_batch_bulk(t[i],10,10,2,eps)\n",
    "plt.plot(np.sqrt(t),(1.0-v)/10)\n",
    "\n",
    "for i in range(len(t)):\n",
    "    v[i] = bh.finite_batch_bulk(t[i],10,1,2,eps)\n",
    "plt.plot(np.sqrt(t),(1.0-v)/1)\n",
    "\n",
    "for i in range(len(t)):\n",
    "    v[i] = bh.finite_batch_bulk(t[i],10,0.1,2,eps)\n",
    "plt.plot(np.sqrt(t),(1.0-v)/0.1)\n",
    "\n",
    "plt.show()"
   ]
  },
  {
   "cell_type": "code",
   "execution_count": null,
   "metadata": {},
   "outputs": [],
   "source": []
  }
 ],
 "metadata": {
  "kernelspec": {
   "display_name": "Python 3",
   "language": "python",
   "name": "python3"
  },
  "language_info": {
   "codemirror_mode": {
    "name": "ipython",
    "version": 3
   },
   "file_extension": ".py",
   "mimetype": "text/x-python",
   "name": "python",
   "nbconvert_exporter": "python",
   "pygments_lexer": "ipython3",
   "version": "3.8.3"
  }
 },
 "nbformat": 4,
 "nbformat_minor": 4
}
