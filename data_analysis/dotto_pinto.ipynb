{
 "metadata": {
  "language_info": {
   "codemirror_mode": {
    "name": "ipython",
    "version": 3
   },
   "file_extension": ".py",
   "mimetype": "text/x-python",
   "name": "python",
   "nbconvert_exporter": "python",
   "pygments_lexer": "ipython3",
   "version": 3
  },
  "orig_nbformat": 2,
  "kernelspec": {
   "name": "python_defaultSpec_1595338724335",
   "display_name": "Python 3.8.3 64-bit ('mestenv': conda)"
  }
 },
 "nbformat": 4,
 "nbformat_minor": 2,
 "cells": [
  {
   "cell_type": "code",
   "execution_count": null,
   "metadata": {},
   "outputs": [],
   "source": [
    "# Importando bibliotecas externas\n",
    "# matplotlib - biblioteca para criação de gráficos\n",
    "from matplotlib import pyplot as plt\n",
    "# pandas - biblioteca para manipulação de dados\n",
    "import pandas as pd\n",
    "# numpy - biblioteca numérica em Python\n",
    "import numpy as np\n",
    "# scipy - biblioteca direcionada para estudos científicos\n",
    "import scipy.optimize as optimize\n",
    "\n",
    "# batchpy - biblioteca com os modelos cinéticos de adsorção\n",
    "from batchpy import batch as bh"
   ]
  },
  {
   "cell_type": "code",
   "execution_count": null,
   "metadata": {},
   "outputs": [],
   "source": []
  }
 ]
}