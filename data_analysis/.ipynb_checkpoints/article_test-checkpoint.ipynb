{
 "cells": [
  {
   "cell_type": "code",
   "execution_count": 5,
   "metadata": {},
   "outputs": [],
   "source": [
    "from matplotlib import pyplot as plt\n",
    "import pandas as pd\n",
    "import numpy as np\n",
    "import scipy.optimize as optimize\n",
    "from batchpy import batch as bh"
   ]
  },
  {
   "cell_type": "code",
   "execution_count": 6,
   "metadata": {},
   "outputs": [],
   "source": [
    "# read csv files\n",
    "dosage_vs_removal = pd.read_csv('./asa_removal/dosage_vs_removal.csv', sep=';')"
   ]
  },
  {
   "cell_type": "code",
   "execution_count": 7,
   "metadata": {},
   "outputs": [
    {
     "name": "stdout",
     "output_type": "stream",
     "text": [
      "0    0.500000\n",
      "1    0.746835\n",
      "2    1.000000\n",
      "3    2.000000\n",
      "4    3.000000\n",
      "5    5.000000\n",
      "Name: dosage, dtype: float64\n",
      "0    41.650824\n",
      "1    62.381078\n",
      "2    85.773131\n",
      "3    88.466413\n",
      "4    90.779468\n",
      "5    92.363752\n",
      "Name: removal, dtype: float64\n"
     ]
    },
    {
     "data": {
      "image/png": "[encoded data removed]",
      "text/plain": [
       "<Figure size 432x288 with 1 Axes>"
      ]
     },
     "metadata": {
      "needs_background": "light"
     },
     "output_type": "display_data"
    }
   ],
   "source": [
    "for data in dosage_vs_removal.keys():\n",
    "    print(dosage_vs_removal[data])\n",
    "\n",
    "plt.plot(dosage_vs_removal['dosage'], dosage_vs_removal['removal'])\n",
    "plt.show()"
   ]
  },
  {
   "cell_type": "code",
   "execution_count": 96,
   "metadata": {
    "scrolled": false
   },
   "outputs": [
    {
     "name": "stdout",
     "output_type": "stream",
     "text": [
      "<class 'pandas.core.frame.DataFrame'>\n"
     ]
    }
   ],
   "source": [
    "\n",
    "data ={\n",
    "    '20mg_1' : pd.read_csv('./asa_removal/qt_vs_time_20mg_1.csv', sep=';'),\n",
    "    '20mg_2' : pd.read_csv('./asa_removal/qt_vs_time_20mg_2.csv', sep=';'),\n",
    "    '50mg' : pd.read_csv('./asa_removal/qt_vs_time_50mg.csv', sep=';'),\n",
    "    '100mg' : pd.read_csv('./asa_removal/qt_vs_time_100mg.csv', sep=';')\n",
    "}\n",
    "\n",
    "#df['20mg_1'].insert(2,'cb',[1,2,3,4], True)\n",
    "print(type(data['20mg_1']))\n",
    "data['20mg_1'].insert(2, 'v', 1 - data['20mg_1']['q']*3/20, True)\n",
    "data['20mg_2'].insert(2, 'v', 1 - data['20mg_2']['q']*3/20, True)\n",
    "data['50mg'].insert(2, 'v', 1 - data['50mg']['q']*3/50, True)\n",
    "data['100mg'].insert(2, 'v', 1 - data['100mg']['q']*3/100, True)\n"
   ]
  },
  {
   "cell_type": "code",
   "execution_count": 45,
   "metadata": {},
   "outputs": [
    {
     "name": "stdout",
     "output_type": "stream",
     "text": [
      "[2.838095]\n",
      "[8.514285]\n"
     ]
    },
    {
     "data": {
      "image/png": "[encoded data removed]",
      "text/plain": [
       "<Figure size 432x288 with 1 Axes>"
      ]
     },
     "metadata": {
      "needs_background": "light"
     },
     "output_type": "display_data"
    }
   ],
   "source": [
    "def alfa(x, a):\n",
    "    #K = 2.2 # L/g\n",
    "    #ep_rhop = 0.29e-3 # L/g\n",
    "    return x * a #(ep_rhop +(1-ep)*K)\n",
    "\n",
    "x_exp = dosage_vs_removal['dosage']\n",
    "y_exp = 1/(1-dosage_vs_removal['removal']/100) - 1\n",
    "\n",
    "constants, _ = optimize.curve_fit(alfa, x_exp, y_exp)\n",
    "print(constants)\n",
    "print(alfa(3,constants))\n",
    "plt.scatter(x_exp, y_exp)\n",
    "plt.plot(x_exp, alfa(x_exp, constants),'-r')\n",
    "plt.show()"
   ]
  },
  {
   "cell_type": "code",
   "execution_count": 98,
   "metadata": {
    "scrolled": false
   },
   "outputs": [
    {
     "name": "stdout",
     "output_type": "stream",
     "text": [
      "0       4.615139\n",
      "1       9.442446\n",
      "2      19.628453\n",
      "3      29.327836\n",
      "4      45.004905\n",
      "5      59.599723\n",
      "6      74.788221\n",
      "7      89.402504\n",
      "8     119.709427\n",
      "9     179.762683\n",
      "10    239.298172\n",
      "11      5.167784\n",
      "12      9.897209\n",
      "13     20.304305\n",
      "14     30.052551\n",
      "15     44.805179\n",
      "16     60.183192\n",
      "17     75.218655\n",
      "18     90.273148\n",
      "19    120.069770\n",
      "20    180.302835\n",
      "21    240.207788\n",
      "Name: t, dtype: float64\n",
      "0     0.505216\n",
      "1     0.422122\n",
      "2     0.237050\n",
      "3     0.157734\n",
      "4     0.127518\n",
      "5     0.097302\n",
      "6     0.169065\n",
      "7     0.176619\n",
      "8     0.184173\n",
      "9     0.161511\n",
      "10    0.184173\n",
      "11    0.503556\n",
      "12    0.422280\n",
      "13    0.235565\n",
      "14    0.154289\n",
      "15    0.121339\n",
      "16    0.094979\n",
      "17    0.165272\n",
      "18    0.171862\n",
      "19    0.180649\n",
      "20    0.156485\n",
      "21    0.180649\n",
      "Name: v, dtype: float64\n"
     ]
    }
   ],
   "source": [
    "\n",
    "def func(x, bi, D_R2):\n",
    "    v=np.zeros(x.shape)\n",
    "    eps = 1e-6\n",
    "    s=2\n",
    "    a = alfa(3, 2.838095)\n",
    "    t = x * D_R2\n",
    "    for i in range(len(t)):\n",
    "        v[i] = bh.finite_batch_bulk(t[i],bi,a,s,eps)\n",
    "    return v\n",
    "\n",
    "N=100\n",
    "a_guess = 1 # <-- You have to supply a guess for kd\n",
    "bi_guess = 1\n",
    "x_exp = (data['20mg_1']['t'].append(data['20mg_2']['t']))\n",
    "x_exp = x_exp.reset_index()['t']\n",
    "y_exp = (data['20mg_1']['v'].append(data['20mg_2']['v']))\n",
    "y_exp = y_exp.reset_index()['v']\n",
    "print(x_exp)\n",
    "print(y_exp)\n"
   ]
  },
  {
   "cell_type": "code",
   "execution_count": 100,
   "metadata": {},
   "outputs": [
    {
     "name": "stdout",
     "output_type": "stream",
     "text": [
      "[1.24143130e+01 7.06536001e-04]\n"
     ]
    },
    {
     "data": {
      "image/png": "[encoded data removed]",
      "text/plain": [
       "<Figure size 432x288 with 1 Axes>"
      ]
     },
     "metadata": {
      "needs_background": "light"
     },
     "output_type": "display_data"
    }
   ],
   "source": [
    "guess = [1,0.001]\n",
    "constants, _ = optimize.curve_fit(func, x_exp, y_exp, p0 = guess)\n",
    "print(constants)\n",
    "x_fit = np.linspace(0.0, 250 ,1000)\n",
    "y_fit = func(x_fit, constants[0], constants[1])\n",
    "plt.scatter(x_exp, y_exp)\n",
    "\n",
    "plt.plot(x_fit, y_fit ,'-r')\n",
    "plt.show()"
   ]
  }
 ],
 "metadata": {
  "kernelspec": {
   "display_name": "Python 3",
   "language": "python",
   "name": "python3"
  },
  "language_info": {
   "codemirror_mode": {
    "name": "ipython",
    "version": 3
   },
   "file_extension": ".py",
   "mimetype": "text/x-python",
   "name": "python",
   "nbconvert_exporter": "python",
   "pygments_lexer": "ipython3",
   "version": "3.8.3"
  }
 },
 "nbformat": 4,
 "nbformat_minor": 4
}
